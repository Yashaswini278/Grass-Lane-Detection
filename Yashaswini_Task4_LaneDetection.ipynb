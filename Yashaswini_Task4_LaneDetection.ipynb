{
 "cells": [
  {
   "cell_type": "markdown",
   "metadata": {},
   "source": [
    "# Task-4\n",
    "\n",
    "## Lane Detection"
   ]
  },
  {
   "cell_type": "code",
   "execution_count": 3,
   "metadata": {},
   "outputs": [],
   "source": [
    "import numpy as np\n",
    "import cv2\n",
    "import matplotlib.pyplot as plt\n",
    "\n",
    "cap = cv2.VideoCapture('sample_output.mp4')\n",
    "\n",
    "\n",
    "#frame_width = int(cap.get(3))\n",
    "#frame_height = int(cap.get(4))\n",
    "   \n",
    "#size = (frame_width, frame_height)\n",
    "#fourcc = cv2.VideoWriter_fourcc(*'DIVX')\n",
    "#out = cv2.VideoWriter('output.avi',fourcc, 20.0, size)\n",
    "\n",
    "while(cap.isOpened()):\n",
    "    ret, frame = cap.read()\n",
    "\n",
    "    if ret == True:\n",
    "        result = frame.copy()\n",
    "        result = cv2.cvtColor(result, cv2.COLOR_BGR2GRAY)\n",
    "        #hsv version of frame\n",
    "        hsv = cv2.cvtColor(frame, cv2.COLOR_BGR2HSV)\n",
    "        \n",
    "        #for lines on grass detection\n",
    "\n",
    "        lower_white = np.array([30, 0, 20])\n",
    "        higher_white = np.array([70, 70, 255])\n",
    "        \n",
    "        #lane line mask\n",
    "        mask_white = cv2.inRange(hsv, lower_white, higher_white)\n",
    "            \n",
    "        result = cv2.bitwise_and(result, result, mask = mask_white)\n",
    "\n",
    "        #morphological operation - to remove noise\n",
    "        kernel = np.ones((5,5),np.uint8)\n",
    "        opening = cv2.morphologyEx(result, cv2.MORPH_OPEN, kernel)\n",
    "\n",
    "        final = cv2.morphologyEx(opening, cv2.MORPH_CLOSE, kernel)\n",
    "        \n",
    "        #out.write(closing)\n",
    "\n",
    "        cv2.imshow('frame', final)\n",
    "\n",
    "        if cv2.waitKey(1) & 0xFF == ord('q'):\n",
    "            break\n",
    "            \n",
    "    else:\n",
    "        break\n",
    "        \n",
    "cap.release()\n",
    "#out.release()\n",
    "cv2.destroyAllWindows()"
   ]
  },
  {
   "cell_type": "code",
   "execution_count": null,
   "metadata": {},
   "outputs": [],
   "source": []
  }
 ],
 "metadata": {
  "kernelspec": {
   "display_name": "Python 3",
   "language": "python",
   "name": "python3"
  },
  "language_info": {
   "codemirror_mode": {
    "name": "ipython",
    "version": 3
   },
   "file_extension": ".py",
   "mimetype": "text/x-python",
   "name": "python",
   "nbconvert_exporter": "python",
   "pygments_lexer": "ipython3",
   "version": "3.8.5"
  }
 },
 "nbformat": 4,
 "nbformat_minor": 4
}
